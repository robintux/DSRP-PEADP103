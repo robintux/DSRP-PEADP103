{
  "nbformat": 4,
  "nbformat_minor": 0,
  "metadata": {
    "colab": {
      "name": "PCA_2_ComprarAlquilar_PCA.ipynb",
      "provenance": []
    },
    "kernelspec": {
      "name": "python3",
      "display_name": "Python 3"
    }
  },
  "cells": [
    {
      "cell_type": "code",
      "metadata": {
        "id": "tc28uQFAZWoJ"
      },
      "source": [
        "# cargamos librerias \n",
        "import pandas as pd\n",
        "import numpy as np\n",
        "import matplotlib.pyplot as plt\n",
        "from sklearn.decomposition import PCA\n",
        "from sklearn.preprocessing import StandardScaler"
      ],
      "execution_count": 3,
      "outputs": []
    },
    {
      "cell_type": "code",
      "metadata": {
        "id": "283xJyuyZ-ZA",
        "outputId": "64a5cc40-0b45-4ff3-f86b-ebb54ded7af6",
        "colab": {
          "base_uri": "https://localhost:8080/",
          "height": 359
        }
      },
      "source": [
        "# cargmos los datos \n",
        "dataframe = pd.read_csv('https://raw.githubusercontent.com/robintux/Datasets4StackOverFlowQuestions/master/comprar_alquilar.csv')\n",
        "dataframe.tail(10)\n"
      ],
      "execution_count": 5,
      "outputs": [
        {
          "output_type": "execute_result",
          "data": {
            "text/html": [
              "<div>\n",
              "<style scoped>\n",
              "    .dataframe tbody tr th:only-of-type {\n",
              "        vertical-align: middle;\n",
              "    }\n",
              "\n",
              "    .dataframe tbody tr th {\n",
              "        vertical-align: top;\n",
              "    }\n",
              "\n",
              "    .dataframe thead th {\n",
              "        text-align: right;\n",
              "    }\n",
              "</style>\n",
              "<table border=\"1\" class=\"dataframe\">\n",
              "  <thead>\n",
              "    <tr style=\"text-align: right;\">\n",
              "      <th></th>\n",
              "      <th>ingresos</th>\n",
              "      <th>gastos_comunes</th>\n",
              "      <th>pago_coche</th>\n",
              "      <th>gastos_otros</th>\n",
              "      <th>ahorros</th>\n",
              "      <th>vivienda</th>\n",
              "      <th>estado_civil</th>\n",
              "      <th>hijos</th>\n",
              "      <th>trabajo</th>\n",
              "      <th>comprar</th>\n",
              "    </tr>\n",
              "  </thead>\n",
              "  <tbody>\n",
              "    <tr>\n",
              "      <th>192</th>\n",
              "      <td>4653</td>\n",
              "      <td>1024</td>\n",
              "      <td>447</td>\n",
              "      <td>703</td>\n",
              "      <td>16952</td>\n",
              "      <td>392957</td>\n",
              "      <td>0</td>\n",
              "      <td>0</td>\n",
              "      <td>3</td>\n",
              "      <td>0</td>\n",
              "    </tr>\n",
              "    <tr>\n",
              "      <th>193</th>\n",
              "      <td>3390</td>\n",
              "      <td>881</td>\n",
              "      <td>194</td>\n",
              "      <td>584</td>\n",
              "      <td>34601</td>\n",
              "      <td>304112</td>\n",
              "      <td>2</td>\n",
              "      <td>2</td>\n",
              "      <td>5</td>\n",
              "      <td>0</td>\n",
              "    </tr>\n",
              "    <tr>\n",
              "      <th>194</th>\n",
              "      <td>2969</td>\n",
              "      <td>623</td>\n",
              "      <td>72</td>\n",
              "      <td>620</td>\n",
              "      <td>29663</td>\n",
              "      <td>289205</td>\n",
              "      <td>2</td>\n",
              "      <td>2</td>\n",
              "      <td>6</td>\n",
              "      <td>0</td>\n",
              "    </tr>\n",
              "    <tr>\n",
              "      <th>195</th>\n",
              "      <td>4169</td>\n",
              "      <td>1292</td>\n",
              "      <td>48</td>\n",
              "      <td>333</td>\n",
              "      <td>28503</td>\n",
              "      <td>239872</td>\n",
              "      <td>2</td>\n",
              "      <td>1</td>\n",
              "      <td>7</td>\n",
              "      <td>1</td>\n",
              "    </tr>\n",
              "    <tr>\n",
              "      <th>196</th>\n",
              "      <td>4054</td>\n",
              "      <td>1095</td>\n",
              "      <td>371</td>\n",
              "      <td>440</td>\n",
              "      <td>22183</td>\n",
              "      <td>223971</td>\n",
              "      <td>1</td>\n",
              "      <td>0</td>\n",
              "      <td>3</td>\n",
              "      <td>0</td>\n",
              "    </tr>\n",
              "    <tr>\n",
              "      <th>197</th>\n",
              "      <td>3831</td>\n",
              "      <td>690</td>\n",
              "      <td>352</td>\n",
              "      <td>488</td>\n",
              "      <td>10723</td>\n",
              "      <td>363120</td>\n",
              "      <td>0</td>\n",
              "      <td>0</td>\n",
              "      <td>2</td>\n",
              "      <td>0</td>\n",
              "    </tr>\n",
              "    <tr>\n",
              "      <th>198</th>\n",
              "      <td>3961</td>\n",
              "      <td>1030</td>\n",
              "      <td>270</td>\n",
              "      <td>475</td>\n",
              "      <td>21880</td>\n",
              "      <td>280421</td>\n",
              "      <td>2</td>\n",
              "      <td>3</td>\n",
              "      <td>8</td>\n",
              "      <td>0</td>\n",
              "    </tr>\n",
              "    <tr>\n",
              "      <th>199</th>\n",
              "      <td>3184</td>\n",
              "      <td>955</td>\n",
              "      <td>276</td>\n",
              "      <td>684</td>\n",
              "      <td>35565</td>\n",
              "      <td>388025</td>\n",
              "      <td>1</td>\n",
              "      <td>3</td>\n",
              "      <td>8</td>\n",
              "      <td>0</td>\n",
              "    </tr>\n",
              "    <tr>\n",
              "      <th>200</th>\n",
              "      <td>3334</td>\n",
              "      <td>867</td>\n",
              "      <td>369</td>\n",
              "      <td>652</td>\n",
              "      <td>19985</td>\n",
              "      <td>376892</td>\n",
              "      <td>1</td>\n",
              "      <td>2</td>\n",
              "      <td>5</td>\n",
              "      <td>0</td>\n",
              "    </tr>\n",
              "    <tr>\n",
              "      <th>201</th>\n",
              "      <td>3988</td>\n",
              "      <td>1157</td>\n",
              "      <td>105</td>\n",
              "      <td>382</td>\n",
              "      <td>11980</td>\n",
              "      <td>257580</td>\n",
              "      <td>0</td>\n",
              "      <td>0</td>\n",
              "      <td>4</td>\n",
              "      <td>0</td>\n",
              "    </tr>\n",
              "  </tbody>\n",
              "</table>\n",
              "</div>"
            ],
            "text/plain": [
              "     ingresos  gastos_comunes  pago_coche  ...  hijos  trabajo  comprar\n",
              "192      4653            1024         447  ...      0        3        0\n",
              "193      3390             881         194  ...      2        5        0\n",
              "194      2969             623          72  ...      2        6        0\n",
              "195      4169            1292          48  ...      1        7        1\n",
              "196      4054            1095         371  ...      0        3        0\n",
              "197      3831             690         352  ...      0        2        0\n",
              "198      3961            1030         270  ...      3        8        0\n",
              "199      3184             955         276  ...      3        8        0\n",
              "200      3334             867         369  ...      2        5        0\n",
              "201      3988            1157         105  ...      0        4        0\n",
              "\n",
              "[10 rows x 10 columns]"
            ]
          },
          "metadata": {
            "tags": []
          },
          "execution_count": 5
        }
      ]
    },
    {
      "cell_type": "code",
      "metadata": {
        "id": "3j9Li1alaWoy",
        "outputId": "aa10cf7a-c8ae-4d9f-95ff-9f4c598c1dd3",
        "colab": {
          "base_uri": "https://localhost:8080/",
          "height": 34
        }
      },
      "source": [
        "# Paso previo : normalizar/escalar la data \n",
        "scaler = StandardScaler()\n",
        "# remover la variable dependiente\n",
        "df = dataframe.drop(['comprar'], axis = 1)\n",
        "scaler.fit(df)\n",
        "\n",
        "# finalmente normalizamos los datos  :  mu = 0 , std= 1\n",
        "X_scaled = scaler.transform(df)\n",
        "\n",
        "X_scaled.shape\n",
        "\n",
        "np.mean(X_scaled[:,1])\n",
        "np.std(X_scaled[:,1])\n"
      ],
      "execution_count": 16,
      "outputs": [
        {
          "output_type": "execute_result",
          "data": {
            "text/plain": [
              "1.0"
            ]
          },
          "metadata": {
            "tags": []
          },
          "execution_count": 16
        }
      ]
    },
    {
      "cell_type": "code",
      "metadata": {
        "id": "caRNeTSZbQT8",
        "outputId": "464132c2-9482-43b4-90a6-655ff87f3c25",
        "colab": {
          "base_uri": "https://localhost:8080/",
          "height": 51
        }
      },
      "source": [
        "# Instanciamos el objeto PCA \n",
        "pca = PCA(n_components= 5)\n",
        "pca.fit(X_scaled)\n",
        "X_pca = pca.transform(X_scaled)\n",
        "\n",
        "print('Dimenciones del objeto PCA')\n",
        "X_pca.shape"
      ],
      "execution_count": 52,
      "outputs": [
        {
          "output_type": "stream",
          "text": [
            "Dimenciones del objeto PCA\n"
          ],
          "name": "stdout"
        },
        {
          "output_type": "execute_result",
          "data": {
            "text/plain": [
              "(202, 5)"
            ]
          },
          "metadata": {
            "tags": []
          },
          "execution_count": 52
        }
      ]
    },
    {
      "cell_type": "code",
      "metadata": {
        "id": "xd_V4l31dZon",
        "outputId": "99274759-70dc-49ec-f0cb-a834fdb5b644",
        "colab": {
          "base_uri": "https://localhost:8080/",
          "height": 51
        }
      },
      "source": [
        "#  cuanto de la informacion se mantiene\n",
        "expl = pca.explained_variance_ratio_\n",
        "print(expl)\n",
        "print(\"Cuanta info se tiene en lo ejes principales \" , sum(expl))\n"
      ],
      "execution_count": 53,
      "outputs": [
        {
          "output_type": "stream",
          "text": [
            "[0.29913557 0.23294923 0.11711241 0.10685622 0.09635279]\n",
            "Cuanta info se tiene en lo ejes principales  0.852406211771431\n"
          ],
          "name": "stdout"
        }
      ]
    },
    {
      "cell_type": "code",
      "metadata": {
        "id": "Xi2pt2XcewqT",
        "outputId": "9ff4f61b-ee84-4614-d084-61e18034f1d9",
        "colab": {
          "base_uri": "https://localhost:8080/",
          "height": 265
        }
      },
      "source": [
        "listINFO = []\n",
        "\n",
        "for i in range(2,10) :\n",
        "  pca = PCA(n_components= i)\n",
        "  pca.fit(X_scaled)\n",
        "  X_pca = pca.transform(X_scaled)\n",
        "  expl = sum(pca.explained_variance_ratio_)\n",
        "  listINFO.append(expl)\n",
        "\n",
        "plt.plot(range(2,10) , listINFO)\n",
        "plt.hlines(y = .80, xmin=2, xmax = 10)\n",
        "plt.show()\n"
      ],
      "execution_count": 49,
      "outputs": [
        {
          "output_type": "display_data",
          "data": {
            "image/png": "[encoded data removed]",
            "text/plain": [
              "<Figure size 432x288 with 1 Axes>"
            ]
          },
          "metadata": {
            "tags": [],
            "needs_background": "light"
          }
        }
      ]
    }
  ]
}