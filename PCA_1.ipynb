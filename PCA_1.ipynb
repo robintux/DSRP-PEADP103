{
  "nbformat": 4,
  "nbformat_minor": 0,
  "metadata": {
    "colab": {
      "name": "PCA_1.ipynb",
      "provenance": []
    },
    "kernelspec": {
      "name": "python3",
      "display_name": "Python 3"
    }
  },
  "cells": [
    {
      "cell_type": "code",
      "metadata": {
        "id": "KT59nddcTqwL",
        "outputId": "9ea59a07-0f83-4637-c99c-00079ec5bc92",
        "colab": {
          "base_uri": "https://localhost:8080/",
          "height": 265
        }
      },
      "source": [
        "# carguemos algunos modulos \n",
        "import numpy as np\n",
        "import matplotlib.pyplot as plt\n",
        "import seaborn as sns\n",
        "\n",
        "# generemos una semilla\n",
        "rng = np.random.RandomState(1)\n",
        "X = np.dot(rng.rand(2,2) , rng.randn(2,200)).T\n",
        "plt.scatter(X[:,0] , X[:, 1])\n",
        "plt.axis('equal')\n",
        "plt.show()"
      ],
      "execution_count": 4,
      "outputs": [
        {
          "output_type": "display_data",
          "data": {
            "image/png": "[encoded data removed]",
            "text/plain": [
              "<Figure size 432x288 with 1 Axes>"
            ]
          },
          "metadata": {
            "tags": [],
            "needs_background": "light"
          }
        }
      ]
    },
    {
      "cell_type": "code",
      "metadata": {
        "id": "SQFz6mUdVLwN"
      },
      "source": [
        "from sklearn.decomposition import PCA\n",
        "# help(PCA)\n",
        "\n",
        "# instanciamos la clase PCA \n",
        "pca = PCA(n_components= 2)\n",
        "\n",
        "pcaX = pca.fit(X)\n",
        "type(pcaX)\n",
        "dir(pcaX)\n",
        "help(pcaX)\n",
        "\n"
      ],
      "execution_count": null,
      "outputs": []
    },
    {
      "cell_type": "code",
      "metadata": {
        "id": "u03OKcMRWsB1",
        "outputId": "770026ad-e44b-4138-efb8-073b1cfb6945",
        "colab": {
          "base_uri": "https://localhost:8080/",
          "height": 51
        }
      },
      "source": [
        "print(pca.components_)"
      ],
      "execution_count": 12,
      "outputs": [
        {
          "output_type": "stream",
          "text": [
            "[[-0.94446029 -0.32862557]\n",
            " [-0.32862557  0.94446029]]\n"
          ],
          "name": "stdout"
        }
      ]
    },
    {
      "cell_type": "code",
      "metadata": {
        "id": "XMWoDsLBWv_Y",
        "outputId": "b5c5e4a4-e492-457c-be1f-3551c23218b6",
        "colab": {
          "base_uri": "https://localhost:8080/",
          "height": 34
        }
      },
      "source": [
        "print(pca.explained_variance_)"
      ],
      "execution_count": 13,
      "outputs": [
        {
          "output_type": "stream",
          "text": [
            "[0.7625315 0.0184779]\n"
          ],
          "name": "stdout"
        }
      ]
    },
    {
      "cell_type": "code",
      "metadata": {
        "id": "DPCYQUWQW_Pz",
        "outputId": "ddb12ba0-1c68-40c0-b996-a10def764151",
        "colab": {
          "base_uri": "https://localhost:8080/",
          "height": 265
        }
      },
      "source": [
        "# Grafiquemos estos nuevos ejes : componentes principales \n",
        "\n",
        "def draw_vector(v0, v1, ax = None):\n",
        "  ax= ax or plt.gca()\n",
        "  arrow_props = dict(arrowstyle = '->' , color = 'red', shrinkA = 0 ,  shrinkB = 0,linewidth = 4)\n",
        "  ax.annotate('', v1 , v0 ,  arrowprops = arrow_props )\n",
        "\n",
        "# Veamos la data \n",
        "plt.scatter(X[:,0] , X[:, 1])\n",
        "for length, vector in zip(pca.explained_variance_, pca.components_):\n",
        "  v = vector * 2 *np.sqrt(length)\n",
        "  draw_vector(pca.mean_, pca.mean_ + v)\n",
        "plt.axis('equal')\n",
        "plt.show()"
      ],
      "execution_count": 21,
      "outputs": [
        {
          "output_type": "display_data",
          "data": {
            "image/png": "[encoded data removed]",
            "text/plain": [
              "<Figure size 432x288 with 1 Axes>"
            ]
          },
          "metadata": {
            "tags": [],
            "needs_background": "light"
          }
        }
      ]
    }
  ]
}